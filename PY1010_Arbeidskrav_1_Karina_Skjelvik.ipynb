{
 "cells": [
  {
   "cell_type": "markdown",
   "id": "118dbc74-7a1c-4248-ad38-91dc06ffbbe7",
   "metadata": {},
   "source": [
    "# Arbeidskrav 1"
   ]
  },
  {
   "cell_type": "markdown",
   "id": "aef7e8bc-df5b-442e-82a3-47fb24c6220f",
   "metadata": {},
   "source": [
    "### Karina Skjelvik (karinaskjelvik@gmail.com)"
   ]
  },
  {
   "cell_type": "code",
   "execution_count": 4,
   "id": "acceda2d-8f04-4ec7-b141-aaec80581316",
   "metadata": {},
   "outputs": [],
   "source": [
    "km = 15000 # [Antall kjørte km per år]"
   ]
  },
  {
   "cell_type": "code",
   "execution_count": 14,
   "id": "8330b9ae-0782-49a1-ad16-b7f95b1464ca",
   "metadata": {},
   "outputs": [],
   "source": [
    "fe = 5000 # [Forsikringskostnader per år for elbil]"
   ]
  },
  {
   "cell_type": "code",
   "execution_count": 15,
   "id": "935effa8-bfa6-48ab-84bc-1befed425ebb",
   "metadata": {},
   "outputs": [],
   "source": [
    "fb = 7500 # [Forsikringskostnader per år for bensinbil]"
   ]
  },
  {
   "cell_type": "code",
   "execution_count": 16,
   "id": "1f538abc-9fdf-4e4d-95ca-d4731288224b",
   "metadata": {},
   "outputs": [],
   "source": [
    "t = 8.38 * 365 # [Trafikkforsikringsavgift per år for bensinbil og elbil]"
   ]
  },
  {
   "cell_type": "code",
   "execution_count": 18,
   "id": "ceee03f6-0b5b-4fc8-922e-3313705e4d7e",
   "metadata": {},
   "outputs": [],
   "source": [
    "s = 2 * 0.2 # [kr per km for strøm til elbil]"
   ]
  },
  {
   "cell_type": "code",
   "execution_count": 17,
   "id": "0ded426f-8e19-4b06-804d-52013ce2fef5",
   "metadata": {},
   "outputs": [],
   "source": [
    "d = 1.0 # [kr per km for drivstoff bensinbil]"
   ]
  },
  {
   "cell_type": "code",
   "execution_count": 19,
   "id": "9630dcbb-338d-4e0e-b501-e301b512bf02",
   "metadata": {},
   "outputs": [],
   "source": [
    "be = 0.1 # [Bomavgift i kr per km for elbil]"
   ]
  },
  {
   "cell_type": "code",
   "execution_count": 20,
   "id": "c456dc41-12a8-4cd6-bd60-22a288d09c1e",
   "metadata": {},
   "outputs": [],
   "source": [
    "bb = 0.3 # [Bomavgift i kr per km for bensinbil]"
   ]
  },
  {
   "cell_type": "code",
   "execution_count": 25,
   "id": "dc18dba5-fd6a-49f7-83af-419a64db80a9",
   "metadata": {},
   "outputs": [],
   "source": [
    "E = fe + t + s*km + be*km"
   ]
  },
  {
   "cell_type": "code",
   "execution_count": 26,
   "id": "dbd69656-4507-4046-8f22-36faaa2bb95f",
   "metadata": {},
   "outputs": [],
   "source": [
    "B = fb + t + d*km + bb*km"
   ]
  },
  {
   "cell_type": "code",
   "execution_count": 38,
   "id": "c4e6f04a-5908-467a-8d37-19af2f55d2d2",
   "metadata": {},
   "outputs": [
    {
     "name": "stdout",
     "output_type": "stream",
     "text": [
      "Årlige totalkostnader for elbil =  15,558.70\n"
     ]
    }
   ],
   "source": [
    "print(\"Årlige totalkostnader for elbil = \", \"{:,.2f}\".format(E))"
   ]
  },
  {
   "cell_type": "code",
   "execution_count": 39,
   "id": "5860883c-8539-4faf-bec5-947a01579b0c",
   "metadata": {},
   "outputs": [
    {
     "name": "stdout",
     "output_type": "stream",
     "text": [
      "Årlige totalkostnader for bensinbil =  30,058.70\n"
     ]
    }
   ],
   "source": [
    "print(\"Årlige totalkostnader for bensinbil = \", \"{:,.2f}\".format(B))"
   ]
  },
  {
   "cell_type": "code",
   "execution_count": 40,
   "id": "64a0e15f-e468-4077-ab2a-8266c24049dd",
   "metadata": {},
   "outputs": [
    {
     "name": "stdout",
     "output_type": "stream",
     "text": [
      "Årlige besparelser med elbil =  14,500.00\n"
     ]
    }
   ],
   "source": [
    "print(\"Årlige besparelser med elbil = \", \"{:,.2f}\".format(B-E))"
   ]
  }
 ],
 "metadata": {
  "kernelspec": {
   "display_name": "Python 3 (ipykernel)",
   "language": "python",
   "name": "python3"
  },
  "language_info": {
   "codemirror_mode": {
    "name": "ipython",
    "version": 3
   },
   "file_extension": ".py",
   "mimetype": "text/x-python",
   "name": "python",
   "nbconvert_exporter": "python",
   "pygments_lexer": "ipython3",
   "version": "3.13.5"
  }
 },
 "nbformat": 4,
 "nbformat_minor": 5
}
